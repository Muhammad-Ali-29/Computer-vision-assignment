{
  "nbformat": 4,
  "nbformat_minor": 0,
  "metadata": {
    "colab": {
      "name": "Untitled2.ipynb",
      "provenance": [],
      "authorship_tag": "ABX9TyM/3ayGk9x3vc5tQ91WhUt6",
      "include_colab_link": true
    },
    "kernelspec": {
      "name": "python3",
      "display_name": "Python 3"
    },
    "language_info": {
      "name": "python"
    },
    "accelerator": "GPU"
  },
  "cells": [
    {
      "cell_type": "markdown",
      "metadata": {
        "id": "view-in-github",
        "colab_type": "text"
      },
      "source": [
        "<a href=\"https://colab.research.google.com/github/Muhammad-Ali-29/Computer-vision-assignment/blob/main/assign2pract.ipynb\" target=\"_parent\"><img src=\"https://colab.research.google.com/assets/colab-badge.svg\" alt=\"Open In Colab\"/></a>"
      ]
    },
    {
      "cell_type": "code",
      "metadata": {
        "id": "r3CVOnTdoEdj",
        "colab": {
          "base_uri": "https://localhost:8080/"
        },
        "outputId": "3624151d-02e3-4020-81c6-96d5658f760d"
      },
      "source": [
        "#drive mount\n",
        "from google.colab import drive\n",
        "drive.mount('/content/drive')"
      ],
      "execution_count": 22,
      "outputs": [
        {
          "output_type": "stream",
          "name": "stdout",
          "text": [
            "Drive already mounted at /content/drive; to attempt to forcibly remount, call drive.mount(\"/content/drive\", force_remount=True).\n"
          ]
        }
      ]
    },
    {
      "cell_type": "code",
      "metadata": {
        "id": "PrqVWrJxOKvH"
      },
      "source": [
        "#Import the libraries\n",
        "import zipfile\n",
        "import os\n",
        "\n",
        "zip_ref = zipfile.ZipFile('/content/drive/MyDrive/315_Birds_Species.zip', 'r') #Opens the zip file in read mode\n",
        "zip_ref.extractall('/tmp') #Extracts the files into the /tmp folder\n",
        "zip_ref.close()"
      ],
      "execution_count": 23,
      "outputs": []
    },
    {
      "cell_type": "code",
      "metadata": {
        "colab": {
          "base_uri": "https://localhost:8080/"
        },
        "id": "aubwevXJPKmi",
        "outputId": "475defe4-9800-434a-b7b3-579bea6348b0"
      },
      "source": [
        "len(os.listdir('/tmp/train/')) #numberr of classes"
      ],
      "execution_count": 24,
      "outputs": [
        {
          "output_type": "execute_result",
          "data": {
            "text/plain": [
              "315"
            ]
          },
          "metadata": {},
          "execution_count": 24
        }
      ]
    },
    {
      "cell_type": "code",
      "metadata": {
        "id": "9uv2yTV3PMEg"
      },
      "source": [
        "#importing libraries\n",
        "\n",
        "from keras.layers import Input, Lambda, Dense, Flatten\n",
        "from keras.models import Model\n",
        "from keras.applications.vgg16 import VGG16\n",
        "from keras.applications.vgg16 import preprocess_input\n",
        "from keras.preprocessing import image\n",
        "from keras.preprocessing.image import ImageDataGenerator\n",
        "from keras.models import Sequential\n",
        "import numpy as np\n",
        "from glob import glob\n",
        "import matplotlib.pyplot as plt"
      ],
      "execution_count": 25,
      "outputs": []
    },
    {
      "cell_type": "code",
      "metadata": {
        "id": "Bah2ThnDUF9r"
      },
      "source": [
        "IMAGE_SIZE = [224, 224]  #vgg takes input in 224 by 224"
      ],
      "execution_count": 26,
      "outputs": []
    },
    {
      "cell_type": "code",
      "metadata": {
        "id": "IP_hRIUBXG2a"
      },
      "source": [
        "#train_path = os.path.abspath('/tmp/train')\n",
        "#valid_path = os.path.abspath('/tmp/valid')\n",
        "#train_path"
      ],
      "execution_count": 27,
      "outputs": []
    },
    {
      "cell_type": "code",
      "metadata": {
        "id": "o733tAVAXZmU"
      },
      "source": [
        "# add preprocessing layer to the front of VGG\n",
        "vgg = VGG16(input_shape=IMAGE_SIZE + [3], weights='imagenet', include_top=False)\n",
        "\n",
        "# won't train existing weights\n",
        "for layer in vgg.layers:\n",
        "  layer.trainable = False"
      ],
      "execution_count": 28,
      "outputs": []
    },
    {
      "cell_type": "code",
      "metadata": {
        "colab": {
          "base_uri": "https://localhost:8080/"
        },
        "id": "902_HCqRcnfc",
        "outputId": "0a97b5cd-5ac4-42be-9e01-6d3aba4d3b90"
      },
      "source": [
        " # useful for getting number of classes\n",
        "\n",
        "folders = glob('/tmp/train/*')\n",
        "\n",
        "print(type(folders))\n",
        "print(folders)\n",
        "len(folders)\n",
        "\n",
        "\n",
        "       "
      ],
      "execution_count": 29,
      "outputs": [
        {
          "output_type": "stream",
          "name": "stdout",
          "text": [
            "<class 'list'>\n",
            "['/tmp/train/CAPPED HERON', '/tmp/train/CINNAMON TEAL', '/tmp/train/ROCK DOVE', '/tmp/train/SPANGLED COTINGA', '/tmp/train/GOLDEN CHEEKED WARBLER', '/tmp/train/INDIAN PITTA', '/tmp/train/GOLDEN CHLOROPHONIA', '/tmp/train/PAINTED BUNTIG', '/tmp/train/BLACK-NECKED GREBE', '/tmp/train/AMERICAN KESTREL', '/tmp/train/REGENT BOWERBIRD', '/tmp/train/RED WINGED BLACKBIRD', '/tmp/train/RED TAILED THRUSH', '/tmp/train/NICOBAR PIGEON', '/tmp/train/BROWN THRASHER', '/tmp/train/IWI', '/tmp/train/HOUSE FINCH', '/tmp/train/BORNEAN BRISTLEHEAD', '/tmp/train/CUBAN TODY', '/tmp/train/ORIENTAL BAY OWL', '/tmp/train/DOUBLE BARRED FINCH', '/tmp/train/CURL CRESTED ARACURI', '/tmp/train/VIOLET GREEN SWALLOW', '/tmp/train/EASTERN MEADOWLARK', '/tmp/train/BROWN NOODY', '/tmp/train/SATYR TRAGOPAN', '/tmp/train/RED WISKERED BULBUL', '/tmp/train/CARMINE BEE-EATER', '/tmp/train/HOODED MERGANSER', '/tmp/train/BEARDED BARBET', '/tmp/train/GREAT KISKADEE', '/tmp/train/GRAY PARTRIDGE', '/tmp/train/DARK EYED JUNCO', '/tmp/train/PURPLE SWAMPHEN', '/tmp/train/BLACK THROATED BUSHTIT', '/tmp/train/BLACK SWAN', '/tmp/train/TOUCHAN', '/tmp/train/WILD TURKEY', '/tmp/train/GOLDEN PIPIT', '/tmp/train/NORTHERN RED BISHOP', '/tmp/train/COCKATOO', '/tmp/train/PELICAN', '/tmp/train/STRIPPED SWALLOW', '/tmp/train/LONG-EARED OWL', '/tmp/train/BLUE COAU', '/tmp/train/CALIFORNIA GULL', '/tmp/train/GREEN JAY', '/tmp/train/RAZORBILL', '/tmp/train/SPOON BILED SANDPIPER', '/tmp/train/HORNBILL', '/tmp/train/RED HONEY CREEPER', '/tmp/train/MYNA', '/tmp/train/QUETZAL', '/tmp/train/YELLOW BELLIED FLOWERPECKER', '/tmp/train/INDIAN ROLLER', '/tmp/train/MAGPIE GOOSE', '/tmp/train/KILLDEAR', '/tmp/train/MASKED BOOBY', '/tmp/train/GYRFALCON', '/tmp/train/PURPLE GALLINULE', '/tmp/train/MALEO', '/tmp/train/COLLARED ARACARI', '/tmp/train/CALIFORNIA CONDOR', '/tmp/train/BANDED PITA', '/tmp/train/TAKAHE', '/tmp/train/STEAMER DUCK', '/tmp/train/WATTLED CURASSOW', '/tmp/train/BLACK TAIL CRAKE', '/tmp/train/WHIMBREL', '/tmp/train/NORTHERN MOCKINGBIRD', '/tmp/train/RED HEADED WOODPECKER', '/tmp/train/OSTRICH', '/tmp/train/HORNED LARK', '/tmp/train/PARADISE TANAGER', '/tmp/train/JABIRU', '/tmp/train/BLUE GROUSE', '/tmp/train/GOULDIAN FINCH', '/tmp/train/KIWI', '/tmp/train/BANANAQUIT', '/tmp/train/TURKEY VULTURE', '/tmp/train/GOLDEN PHEASANT', '/tmp/train/GREAT POTOO', '/tmp/train/BAR-TAILED GODWIT', '/tmp/train/MALAGASY WHITE EYE', '/tmp/train/BLACK FRANCOLIN', '/tmp/train/HORNED GUAN', '/tmp/train/EMPEROR PENGUIN', '/tmp/train/TOWNSENDS WARBLER', '/tmp/train/HOOPOES', '/tmp/train/EMU', '/tmp/train/DOWNY WOODPECKER', '/tmp/train/OSPREY', '/tmp/train/CROWNED PIGEON', '/tmp/train/SCARLET CROWNED FRUIT DOVE', '/tmp/train/OCELLATED TURKEY', '/tmp/train/BAY-BREASTED WARBLER', '/tmp/train/HIMALAYAN MONAL', '/tmp/train/PUFFIN', '/tmp/train/SCARLET IBIS', '/tmp/train/CHARA DE COLLAR', '/tmp/train/TIT MOUSE', '/tmp/train/RED NAPED TROGON', '/tmp/train/PARUS MAJOR', '/tmp/train/SHOEBILL', '/tmp/train/GREEN BROADBILL', '/tmp/train/RED FACED CORMORANT', '/tmp/train/BARN OWL', '/tmp/train/AFRICAN CROWNED CRANE', '/tmp/train/CROW', '/tmp/train/GREY PLOVER', '/tmp/train/SCARLET MACAW', '/tmp/train/RUFOUS KINGFISHER', '/tmp/train/CANARY', '/tmp/train/NORTHERN GANNET', '/tmp/train/SRI LANKA BLUE MAGPIE', '/tmp/train/MOURNING DOVE', '/tmp/train/NOISY FRIARBIRD', '/tmp/train/BLUE HERON', '/tmp/train/CERULEAN WARBLER', '/tmp/train/CHIPPING SPARROW', '/tmp/train/PINK ROBIN', '/tmp/train/NORTHERN GOSHAWK', '/tmp/train/BALTIMORE ORIOLE', '/tmp/train/GREATOR SAGE GROUSE', '/tmp/train/SANDHILL CRANE', '/tmp/train/INCA TERN', '/tmp/train/BLACK VULTURE', '/tmp/train/COCK OF THE  ROCK', '/tmp/train/ROADRUNNER', '/tmp/train/RED BELLIED PITTA', '/tmp/train/GLOSSY IBIS', '/tmp/train/BALD IBIS', '/tmp/train/BORNEAN PHEASANT', '/tmp/train/SNOWY OWL', '/tmp/train/AMERICAN PIPIT', '/tmp/train/TRUMPTER SWAN', '/tmp/train/PURPLE FINCH', '/tmp/train/ROBIN', '/tmp/train/BALI STARLING', '/tmp/train/RED HEADED DUCK', '/tmp/train/CACTUS WREN', '/tmp/train/COMMON GRACKLE', '/tmp/train/BLACK THROATED WARBLER', '/tmp/train/CRESTED CARACARA', '/tmp/train/CAPUCHINBIRD', '/tmp/train/TEAL DUCK', '/tmp/train/MALACHITE KINGFISHER', '/tmp/train/CRESTED NUTHATCH', '/tmp/train/RED TAILED HAWK', '/tmp/train/HAWAIIAN GOOSE', '/tmp/train/AMERICAN REDSTART', '/tmp/train/FAIRY BLUEBIRD', '/tmp/train/CALIFORNIA QUAIL', '/tmp/train/ANTBIRD', '/tmp/train/SCARLET TANAGER', '/tmp/train/COMMON LOON', '/tmp/train/HARPY EAGLE', '/tmp/train/BLUE THROATED TOUCANET', '/tmp/train/ANNAS HUMMINGBIRD', '/tmp/train/FLAME TANAGER', '/tmp/train/GOLD WING WARBLER', '/tmp/train/EURASIAN MAGPIE', '/tmp/train/ELEGANT TROGON', '/tmp/train/ALEXANDRINE PARAKEET', '/tmp/train/DOUBLE BRESTED CORMARANT', '/tmp/train/GREEN MAGPIE', '/tmp/train/COUCHS KINGBIRD', '/tmp/train/HELMET VANGA', '/tmp/train/WHITE TAILED TROPIC', '/tmp/train/MANDRIN DUCK', '/tmp/train/NORTHERN PARULA', '/tmp/train/CHUKAR PARTRIDGE', '/tmp/train/BEARDED BELLBIRD', '/tmp/train/VULTURINE GUINEAFOWL', '/tmp/train/VICTORIA CROWNED PIGEON', '/tmp/train/PYGMY KINGFISHER', '/tmp/train/COMMON STARLING', '/tmp/train/EASTERN ROSELLA', '/tmp/train/EVENING GROSBEAK', '/tmp/train/LILAC ROLLER', '/tmp/train/BLACK SKIMMER', '/tmp/train/OKINAWA RAIL', '/tmp/train/PATAGONIAN SIERRA FINCH', '/tmp/train/BELTED KINGFISHER', '/tmp/train/NORTHERN SHOVELER', '/tmp/train/WILSONS BIRD OF PARADISE', '/tmp/train/PALILA', '/tmp/train/GUINEAFOWL', '/tmp/train/FIRE TAILLED MYZORNIS', '/tmp/train/ARARIPE MANAKIN', '/tmp/train/CAPE MAY WARBLER', '/tmp/train/SPOONBILL', '/tmp/train/RUFUOS MOTMOT', '/tmp/train/WALL CREAPER', '/tmp/train/WOOD DUCK', '/tmp/train/PARAKETT  AKULET', '/tmp/train/JAVA SPARROW', '/tmp/train/BEARDED REEDLING', '/tmp/train/EURASIAN GOLDEN ORIOLE', '/tmp/train/VENEZUELIAN TROUPIAL', '/tmp/train/EASTERN TOWEE', '/tmp/train/GANG GANG COCKATOO', '/tmp/train/KAGU', '/tmp/train/SWINHOES PHEASANT', '/tmp/train/GO AWAY BIRD', '/tmp/train/TREE SWALLOW', '/tmp/train/CEDAR WAXWING', '/tmp/train/STORK BILLED KINGFISHER', '/tmp/train/BLACK BAZA', '/tmp/train/GRAY CATBIRD', '/tmp/train/HOATZIN', '/tmp/train/YELLOW CACIQUE', '/tmp/train/WHITE BROWED CRAKE', '/tmp/train/PEREGRINE FALCON', '/tmp/train/WHITE NECKED RAVEN', '/tmp/train/GAMBELS QUAIL', '/tmp/train/RED FODY', '/tmp/train/RUBY THROATED HUMMINGBIRD', '/tmp/train/AMERICAN GOLDFINCH', '/tmp/train/VARIED THRUSH', '/tmp/train/HYACINTH MACAW', '/tmp/train/RED BEARDED BEE EATER', '/tmp/train/BROWN CREPPER', '/tmp/train/TASMANIAN HEN', '/tmp/train/OVENBIRD', '/tmp/train/PEACOCK', '/tmp/train/SAND MARTIN', '/tmp/train/HORNED SUNGEM', '/tmp/train/D-ARNAUDS BARBET', '/tmp/train/BLONDE CRESTED WOODPECKER', '/tmp/train/HOUSE SPARROW', '/tmp/train/SAMATRAN THRUSH', '/tmp/train/RAINBOW LORIKEET', '/tmp/train/STRIPED OWL', '/tmp/train/CASPIAN TERN', '/tmp/train/WHITE THROATED BEE EATER', '/tmp/train/IMPERIAL SHAQ', '/tmp/train/PURPLE MARTIN', '/tmp/train/CUBAN TROGON', '/tmp/train/GREAT GRAY OWL', '/tmp/train/INDIAN BUSTARD', '/tmp/train/ROYAL FLYCATCHER', '/tmp/train/SNOWY EGRET', '/tmp/train/RED BROWED FINCH', '/tmp/train/EASTERN BLUEBIRD', '/tmp/train/BLACKBURNIAM WARBLER', '/tmp/train/GOLDEN EAGLE', '/tmp/train/CLARKS NUTCRACKER', '/tmp/train/BORNEAN LEAFBIRD', '/tmp/train/ANHINGA', '/tmp/train/BARRED PUFFBIRD', '/tmp/train/SMITHS LONGSPUR', '/tmp/train/VERMILION FLYCATHER', '/tmp/train/BULWERS PHEASANT', '/tmp/train/WHITE CHEEKED TURACO', '/tmp/train/CRIMSON SUNBIRD', '/tmp/train/SPLENDID WREN', '/tmp/train/BANDED BROADBILL', '/tmp/train/BLACK-CAPPED CHICKADEE', '/tmp/train/ROUGH LEG BUZZARD', '/tmp/train/OYSTER CATCHER', '/tmp/train/LARK BUNTING', '/tmp/train/ROSY FACED LOVEBIRD', '/tmp/train/TURQUOISE MOTMOT', '/tmp/train/BLACK & YELLOW bROADBILL', '/tmp/train/COMMON HOUSE MARTIN', '/tmp/train/MASKED LAPWING', '/tmp/train/GUINEA TURACO', '/tmp/train/MALLARD DUCK', '/tmp/train/UMBRELLA BIRD', '/tmp/train/FLAMINGO', '/tmp/train/MARABOU STORK', '/tmp/train/KOOKABURRA', '/tmp/train/TAIWAN MAGPIE', '/tmp/train/INDIGO BUNTING', '/tmp/train/ELLIOTS  PHEASANT', '/tmp/train/COMMON FIRECREST', '/tmp/train/GILDED FLICKER', '/tmp/train/MIKADO  PHEASANT', '/tmp/train/AMERICAN BITTERN', '/tmp/train/PHILIPPINE EAGLE', '/tmp/train/FRIGATE', '/tmp/train/NORTHERN CARDINAL', '/tmp/train/AMERICAN COOT', '/tmp/train/MALABAR HORNBILL', '/tmp/train/ORANGE BRESTED BUNTING', '/tmp/train/NORTHERN JACANA', '/tmp/train/COMMON POORWILL', '/tmp/train/STRIPPED MANAKIN', '/tmp/train/STRAWBERRY FINCH', '/tmp/train/ALBATROSS', '/tmp/train/AMERICAN AVOCET', '/tmp/train/BOBOLINK', '/tmp/train/CRESTED AUKLET', '/tmp/train/YELLOW HEADED BLACKBIRD', '/tmp/train/BARN SWALLOW', '/tmp/train/HARLEQUIN DUCK', '/tmp/train/CASSOWARY', '/tmp/train/GILA WOODPECKER', '/tmp/train/BIRD OF PARADISE', '/tmp/train/SORA', '/tmp/train/RED FACED WARBLER', '/tmp/train/KAKAPO', '/tmp/train/BLACK-THROATED SPARROW', '/tmp/train/ENGGANO MYNA', '/tmp/train/SHORT BILLED DOWITCHER', '/tmp/train/CHESTNET BELLIED EUPHONIA', '/tmp/train/ASIAN CRESTED IBIS', '/tmp/train/RUDY KINGFISHER', '/tmp/train/SUPERB STARLING', '/tmp/train/AFRICAN FIREFINCH', '/tmp/train/RING-NECKED PHEASANT', '/tmp/train/BALD EAGLE', '/tmp/train/NORTHERN FLICKER', '/tmp/train/KING VULTURE']\n"
          ]
        },
        {
          "output_type": "execute_result",
          "data": {
            "text/plain": [
              "315"
            ]
          },
          "metadata": {},
          "execution_count": 29
        }
      ]
    },
    {
      "cell_type": "code",
      "metadata": {
        "id": "h2dRgrlJYqiP"
      },
      "source": [
        "\n",
        "# flattening o/p layer\n",
        "x = Flatten()(vgg.output)\n",
        "# prediction layer\n",
        "prediction = Dense(len(folders), activation='softmax')(x)"
      ],
      "execution_count": 30,
      "outputs": []
    },
    {
      "cell_type": "code",
      "metadata": {
        "colab": {
          "base_uri": "https://localhost:8080/"
        },
        "id": "O0Bgy5LOd_wh",
        "outputId": "e0f8e95a-cf86-409a-a153-73280e9582af"
      },
      "source": [
        "# create a model object\n",
        "model = Model(inputs=vgg.input, outputs=prediction)\n",
        "\n",
        "# view the structure of the model\n",
        "model.summary()"
      ],
      "execution_count": 31,
      "outputs": [
        {
          "output_type": "stream",
          "name": "stdout",
          "text": [
            "Model: \"model_1\"\n",
            "_________________________________________________________________\n",
            " Layer (type)                Output Shape              Param #   \n",
            "=================================================================\n",
            " input_2 (InputLayer)        [(None, 224, 224, 3)]     0         \n",
            "                                                                 \n",
            " block1_conv1 (Conv2D)       (None, 224, 224, 64)      1792      \n",
            "                                                                 \n",
            " block1_conv2 (Conv2D)       (None, 224, 224, 64)      36928     \n",
            "                                                                 \n",
            " block1_pool (MaxPooling2D)  (None, 112, 112, 64)      0         \n",
            "                                                                 \n",
            " block2_conv1 (Conv2D)       (None, 112, 112, 128)     73856     \n",
            "                                                                 \n",
            " block2_conv2 (Conv2D)       (None, 112, 112, 128)     147584    \n",
            "                                                                 \n",
            " block2_pool (MaxPooling2D)  (None, 56, 56, 128)       0         \n",
            "                                                                 \n",
            " block3_conv1 (Conv2D)       (None, 56, 56, 256)       295168    \n",
            "                                                                 \n",
            " block3_conv2 (Conv2D)       (None, 56, 56, 256)       590080    \n",
            "                                                                 \n",
            " block3_conv3 (Conv2D)       (None, 56, 56, 256)       590080    \n",
            "                                                                 \n",
            " block3_pool (MaxPooling2D)  (None, 28, 28, 256)       0         \n",
            "                                                                 \n",
            " block4_conv1 (Conv2D)       (None, 28, 28, 512)       1180160   \n",
            "                                                                 \n",
            " block4_conv2 (Conv2D)       (None, 28, 28, 512)       2359808   \n",
            "                                                                 \n",
            " block4_conv3 (Conv2D)       (None, 28, 28, 512)       2359808   \n",
            "                                                                 \n",
            " block4_pool (MaxPooling2D)  (None, 14, 14, 512)       0         \n",
            "                                                                 \n",
            " block5_conv1 (Conv2D)       (None, 14, 14, 512)       2359808   \n",
            "                                                                 \n",
            " block5_conv2 (Conv2D)       (None, 14, 14, 512)       2359808   \n",
            "                                                                 \n",
            " block5_conv3 (Conv2D)       (None, 14, 14, 512)       2359808   \n",
            "                                                                 \n",
            " block5_pool (MaxPooling2D)  (None, 7, 7, 512)         0         \n",
            "                                                                 \n",
            " flatten_1 (Flatten)         (None, 25088)             0         \n",
            "                                                                 \n",
            " dense_1 (Dense)             (None, 315)               7903035   \n",
            "                                                                 \n",
            "=================================================================\n",
            "Total params: 22,617,723\n",
            "Trainable params: 7,903,035\n",
            "Non-trainable params: 14,714,688\n",
            "_________________________________________________________________\n"
          ]
        }
      ]
    },
    {
      "cell_type": "code",
      "metadata": {
        "id": "kWXSJCfhePgW"
      },
      "source": [
        "# tell the model what cost and optimization method to use\n",
        "\n",
        "model.compile(\n",
        "  loss='categorical_crossentropy',\n",
        "  optimizer='adam',\n",
        "  metrics=['accuracy']\n",
        ")"
      ],
      "execution_count": 32,
      "outputs": []
    },
    {
      "cell_type": "code",
      "metadata": {
        "colab": {
          "base_uri": "https://localhost:8080/"
        },
        "id": "3VW_YJj2ZsNr",
        "outputId": "bd0857b2-c56e-4175-cc61-f8edd4f3d43b"
      },
      "source": [
        "#Data Augmentation\n",
        "\n",
        "from keras.preprocessing.image import ImageDataGenerator\n",
        "\n",
        "#training data augmentation\n",
        "train_datagen = ImageDataGenerator(rescale = 1./255,\n",
        "                                   shear_range = 0.2,\n",
        "                                   zoom_range = 0.2,\n",
        "                                   horizontal_flip = True)\n",
        "\n",
        "#validation data augmentation\n",
        "valid_datagen = ImageDataGenerator(rescale = 1./255)\n",
        "\n",
        "training_set = train_datagen.flow_from_directory('/tmp/train',\n",
        "                                                 target_size = (224, 224),\n",
        "                                                 batch_size = 16,\n",
        "                                                 class_mode = 'categorical')\n",
        "\n",
        "valid_set = valid_datagen.flow_from_directory('/tmp/valid',\n",
        "                                            target_size = (224, 224),\n",
        "                                            batch_size = 16,\n",
        "                                            class_mode = 'categorical')\n",
        "\n",
        "\n"
      ],
      "execution_count": 33,
      "outputs": [
        {
          "output_type": "stream",
          "name": "stdout",
          "text": [
            "Found 45980 images belonging to 315 classes.\n",
            "Found 1575 images belonging to 315 classes.\n"
          ]
        }
      ]
    },
    {
      "cell_type": "code",
      "metadata": {
        "colab": {
          "base_uri": "https://localhost:8080/"
        },
        "id": "5qnJVFCw7cOr",
        "outputId": "3bc603a0-717e-4099-a5ed-a4494c26bb59"
      },
      "source": [
        "print(len(training_set))\n",
        "print(len(valid_set))"
      ],
      "execution_count": 34,
      "outputs": [
        {
          "output_type": "stream",
          "name": "stdout",
          "text": [
            "2874\n",
            "99\n"
          ]
        }
      ]
    },
    {
      "cell_type": "code",
      "metadata": {
        "colab": {
          "base_uri": "https://localhost:8080/",
          "height": 408
        },
        "id": "vj1KRe3Fc0Ng",
        "outputId": "b153f266-3943-4c28-8ea0-450a1944a419"
      },
      "source": [
        "# fit the model\n",
        "r = model.fit(\n",
        "  training_set,\n",
        "  validation_data=valid_set,\n",
        "  epochs=5,\n",
        "  steps_per_epoch=len(training_set),\n",
        "  validation_steps=len(valid_set)\n",
        ")"
      ],
      "execution_count": 35,
      "outputs": [
        {
          "output_type": "stream",
          "name": "stdout",
          "text": [
            "Epoch 1/5\n",
            " 103/2874 [>.............................] - ETA: 5:32:20 - loss: 9.0237 - accuracy: 0.0437"
          ]
        },
        {
          "output_type": "error",
          "ename": "KeyboardInterrupt",
          "evalue": "ignored",
          "traceback": [
            "\u001b[0;31m---------------------------------------------------------------------------\u001b[0m",
            "\u001b[0;31mKeyboardInterrupt\u001b[0m                         Traceback (most recent call last)",
            "\u001b[0;32m<ipython-input-35-4255d1f7628f>\u001b[0m in \u001b[0;36m<module>\u001b[0;34m()\u001b[0m\n\u001b[1;32m      5\u001b[0m   \u001b[0mepochs\u001b[0m\u001b[0;34m=\u001b[0m\u001b[0;36m5\u001b[0m\u001b[0;34m,\u001b[0m\u001b[0;34m\u001b[0m\u001b[0;34m\u001b[0m\u001b[0m\n\u001b[1;32m      6\u001b[0m   \u001b[0msteps_per_epoch\u001b[0m\u001b[0;34m=\u001b[0m\u001b[0mlen\u001b[0m\u001b[0;34m(\u001b[0m\u001b[0mtraining_set\u001b[0m\u001b[0;34m)\u001b[0m\u001b[0;34m,\u001b[0m\u001b[0;34m\u001b[0m\u001b[0;34m\u001b[0m\u001b[0m\n\u001b[0;32m----> 7\u001b[0;31m   \u001b[0mvalidation_steps\u001b[0m\u001b[0;34m=\u001b[0m\u001b[0mlen\u001b[0m\u001b[0;34m(\u001b[0m\u001b[0mvalid_set\u001b[0m\u001b[0;34m)\u001b[0m\u001b[0;34m\u001b[0m\u001b[0;34m\u001b[0m\u001b[0m\n\u001b[0m\u001b[1;32m      8\u001b[0m )\n",
            "\u001b[0;32m/usr/local/lib/python3.7/dist-packages/keras/utils/traceback_utils.py\u001b[0m in \u001b[0;36merror_handler\u001b[0;34m(*args, **kwargs)\u001b[0m\n\u001b[1;32m     62\u001b[0m     \u001b[0mfiltered_tb\u001b[0m \u001b[0;34m=\u001b[0m \u001b[0;32mNone\u001b[0m\u001b[0;34m\u001b[0m\u001b[0;34m\u001b[0m\u001b[0m\n\u001b[1;32m     63\u001b[0m     \u001b[0;32mtry\u001b[0m\u001b[0;34m:\u001b[0m\u001b[0;34m\u001b[0m\u001b[0;34m\u001b[0m\u001b[0m\n\u001b[0;32m---> 64\u001b[0;31m       \u001b[0;32mreturn\u001b[0m \u001b[0mfn\u001b[0m\u001b[0;34m(\u001b[0m\u001b[0;34m*\u001b[0m\u001b[0margs\u001b[0m\u001b[0;34m,\u001b[0m \u001b[0;34m**\u001b[0m\u001b[0mkwargs\u001b[0m\u001b[0;34m)\u001b[0m\u001b[0;34m\u001b[0m\u001b[0;34m\u001b[0m\u001b[0m\n\u001b[0m\u001b[1;32m     65\u001b[0m     \u001b[0;32mexcept\u001b[0m \u001b[0mException\u001b[0m \u001b[0;32mas\u001b[0m \u001b[0me\u001b[0m\u001b[0;34m:\u001b[0m  \u001b[0;31m# pylint: disable=broad-except\u001b[0m\u001b[0;34m\u001b[0m\u001b[0;34m\u001b[0m\u001b[0m\n\u001b[1;32m     66\u001b[0m       \u001b[0mfiltered_tb\u001b[0m \u001b[0;34m=\u001b[0m \u001b[0m_process_traceback_frames\u001b[0m\u001b[0;34m(\u001b[0m\u001b[0me\u001b[0m\u001b[0;34m.\u001b[0m\u001b[0m__traceback__\u001b[0m\u001b[0;34m)\u001b[0m\u001b[0;34m\u001b[0m\u001b[0;34m\u001b[0m\u001b[0m\n",
            "\u001b[0;32m/usr/local/lib/python3.7/dist-packages/keras/engine/training.py\u001b[0m in \u001b[0;36mfit\u001b[0;34m(self, x, y, batch_size, epochs, verbose, callbacks, validation_split, validation_data, shuffle, class_weight, sample_weight, initial_epoch, steps_per_epoch, validation_steps, validation_batch_size, validation_freq, max_queue_size, workers, use_multiprocessing)\u001b[0m\n\u001b[1;32m   1214\u001b[0m                 _r=1):\n\u001b[1;32m   1215\u001b[0m               \u001b[0mcallbacks\u001b[0m\u001b[0;34m.\u001b[0m\u001b[0mon_train_batch_begin\u001b[0m\u001b[0;34m(\u001b[0m\u001b[0mstep\u001b[0m\u001b[0;34m)\u001b[0m\u001b[0;34m\u001b[0m\u001b[0;34m\u001b[0m\u001b[0m\n\u001b[0;32m-> 1216\u001b[0;31m               \u001b[0mtmp_logs\u001b[0m \u001b[0;34m=\u001b[0m \u001b[0mself\u001b[0m\u001b[0;34m.\u001b[0m\u001b[0mtrain_function\u001b[0m\u001b[0;34m(\u001b[0m\u001b[0miterator\u001b[0m\u001b[0;34m)\u001b[0m\u001b[0;34m\u001b[0m\u001b[0;34m\u001b[0m\u001b[0m\n\u001b[0m\u001b[1;32m   1217\u001b[0m               \u001b[0;32mif\u001b[0m \u001b[0mdata_handler\u001b[0m\u001b[0;34m.\u001b[0m\u001b[0mshould_sync\u001b[0m\u001b[0;34m:\u001b[0m\u001b[0;34m\u001b[0m\u001b[0;34m\u001b[0m\u001b[0m\n\u001b[1;32m   1218\u001b[0m                 \u001b[0mcontext\u001b[0m\u001b[0;34m.\u001b[0m\u001b[0masync_wait\u001b[0m\u001b[0;34m(\u001b[0m\u001b[0;34m)\u001b[0m\u001b[0;34m\u001b[0m\u001b[0;34m\u001b[0m\u001b[0m\n",
            "\u001b[0;32m/usr/local/lib/python3.7/dist-packages/tensorflow/python/util/traceback_utils.py\u001b[0m in \u001b[0;36merror_handler\u001b[0;34m(*args, **kwargs)\u001b[0m\n\u001b[1;32m    148\u001b[0m     \u001b[0mfiltered_tb\u001b[0m \u001b[0;34m=\u001b[0m \u001b[0;32mNone\u001b[0m\u001b[0;34m\u001b[0m\u001b[0;34m\u001b[0m\u001b[0m\n\u001b[1;32m    149\u001b[0m     \u001b[0;32mtry\u001b[0m\u001b[0;34m:\u001b[0m\u001b[0;34m\u001b[0m\u001b[0;34m\u001b[0m\u001b[0m\n\u001b[0;32m--> 150\u001b[0;31m       \u001b[0;32mreturn\u001b[0m \u001b[0mfn\u001b[0m\u001b[0;34m(\u001b[0m\u001b[0;34m*\u001b[0m\u001b[0margs\u001b[0m\u001b[0;34m,\u001b[0m \u001b[0;34m**\u001b[0m\u001b[0mkwargs\u001b[0m\u001b[0;34m)\u001b[0m\u001b[0;34m\u001b[0m\u001b[0;34m\u001b[0m\u001b[0m\n\u001b[0m\u001b[1;32m    151\u001b[0m     \u001b[0;32mexcept\u001b[0m \u001b[0mException\u001b[0m \u001b[0;32mas\u001b[0m \u001b[0me\u001b[0m\u001b[0;34m:\u001b[0m\u001b[0;34m\u001b[0m\u001b[0;34m\u001b[0m\u001b[0m\n\u001b[1;32m    152\u001b[0m       \u001b[0mfiltered_tb\u001b[0m \u001b[0;34m=\u001b[0m \u001b[0m_process_traceback_frames\u001b[0m\u001b[0;34m(\u001b[0m\u001b[0me\u001b[0m\u001b[0;34m.\u001b[0m\u001b[0m__traceback__\u001b[0m\u001b[0;34m)\u001b[0m\u001b[0;34m\u001b[0m\u001b[0;34m\u001b[0m\u001b[0m\n",
            "\u001b[0;32m/usr/local/lib/python3.7/dist-packages/tensorflow/python/eager/def_function.py\u001b[0m in \u001b[0;36m__call__\u001b[0;34m(self, *args, **kwds)\u001b[0m\n\u001b[1;32m    908\u001b[0m \u001b[0;34m\u001b[0m\u001b[0m\n\u001b[1;32m    909\u001b[0m       \u001b[0;32mwith\u001b[0m \u001b[0mOptionalXlaContext\u001b[0m\u001b[0;34m(\u001b[0m\u001b[0mself\u001b[0m\u001b[0;34m.\u001b[0m\u001b[0m_jit_compile\u001b[0m\u001b[0;34m)\u001b[0m\u001b[0;34m:\u001b[0m\u001b[0;34m\u001b[0m\u001b[0;34m\u001b[0m\u001b[0m\n\u001b[0;32m--> 910\u001b[0;31m         \u001b[0mresult\u001b[0m \u001b[0;34m=\u001b[0m \u001b[0mself\u001b[0m\u001b[0;34m.\u001b[0m\u001b[0m_call\u001b[0m\u001b[0;34m(\u001b[0m\u001b[0;34m*\u001b[0m\u001b[0margs\u001b[0m\u001b[0;34m,\u001b[0m \u001b[0;34m**\u001b[0m\u001b[0mkwds\u001b[0m\u001b[0;34m)\u001b[0m\u001b[0;34m\u001b[0m\u001b[0;34m\u001b[0m\u001b[0m\n\u001b[0m\u001b[1;32m    911\u001b[0m \u001b[0;34m\u001b[0m\u001b[0m\n\u001b[1;32m    912\u001b[0m       \u001b[0mnew_tracing_count\u001b[0m \u001b[0;34m=\u001b[0m \u001b[0mself\u001b[0m\u001b[0;34m.\u001b[0m\u001b[0mexperimental_get_tracing_count\u001b[0m\u001b[0;34m(\u001b[0m\u001b[0;34m)\u001b[0m\u001b[0;34m\u001b[0m\u001b[0;34m\u001b[0m\u001b[0m\n",
            "\u001b[0;32m/usr/local/lib/python3.7/dist-packages/tensorflow/python/eager/def_function.py\u001b[0m in \u001b[0;36m_call\u001b[0;34m(self, *args, **kwds)\u001b[0m\n\u001b[1;32m    940\u001b[0m       \u001b[0;31m# In this case we have created variables on the first call, so we run the\u001b[0m\u001b[0;34m\u001b[0m\u001b[0;34m\u001b[0m\u001b[0;34m\u001b[0m\u001b[0m\n\u001b[1;32m    941\u001b[0m       \u001b[0;31m# defunned version which is guaranteed to never create variables.\u001b[0m\u001b[0;34m\u001b[0m\u001b[0;34m\u001b[0m\u001b[0;34m\u001b[0m\u001b[0m\n\u001b[0;32m--> 942\u001b[0;31m       \u001b[0;32mreturn\u001b[0m \u001b[0mself\u001b[0m\u001b[0;34m.\u001b[0m\u001b[0m_stateless_fn\u001b[0m\u001b[0;34m(\u001b[0m\u001b[0;34m*\u001b[0m\u001b[0margs\u001b[0m\u001b[0;34m,\u001b[0m \u001b[0;34m**\u001b[0m\u001b[0mkwds\u001b[0m\u001b[0;34m)\u001b[0m  \u001b[0;31m# pylint: disable=not-callable\u001b[0m\u001b[0;34m\u001b[0m\u001b[0;34m\u001b[0m\u001b[0m\n\u001b[0m\u001b[1;32m    943\u001b[0m     \u001b[0;32melif\u001b[0m \u001b[0mself\u001b[0m\u001b[0;34m.\u001b[0m\u001b[0m_stateful_fn\u001b[0m \u001b[0;32mis\u001b[0m \u001b[0;32mnot\u001b[0m \u001b[0;32mNone\u001b[0m\u001b[0;34m:\u001b[0m\u001b[0;34m\u001b[0m\u001b[0;34m\u001b[0m\u001b[0m\n\u001b[1;32m    944\u001b[0m       \u001b[0;31m# Release the lock early so that multiple threads can perform the call\u001b[0m\u001b[0;34m\u001b[0m\u001b[0;34m\u001b[0m\u001b[0;34m\u001b[0m\u001b[0m\n",
            "\u001b[0;32m/usr/local/lib/python3.7/dist-packages/tensorflow/python/eager/function.py\u001b[0m in \u001b[0;36m__call__\u001b[0;34m(self, *args, **kwargs)\u001b[0m\n\u001b[1;32m   3129\u001b[0m        filtered_flat_args) = self._maybe_define_function(args, kwargs)\n\u001b[1;32m   3130\u001b[0m     return graph_function._call_flat(\n\u001b[0;32m-> 3131\u001b[0;31m         filtered_flat_args, captured_inputs=graph_function.captured_inputs)  # pylint: disable=protected-access\n\u001b[0m\u001b[1;32m   3132\u001b[0m \u001b[0;34m\u001b[0m\u001b[0m\n\u001b[1;32m   3133\u001b[0m   \u001b[0;34m@\u001b[0m\u001b[0mproperty\u001b[0m\u001b[0;34m\u001b[0m\u001b[0;34m\u001b[0m\u001b[0m\n",
            "\u001b[0;32m/usr/local/lib/python3.7/dist-packages/tensorflow/python/eager/function.py\u001b[0m in \u001b[0;36m_call_flat\u001b[0;34m(self, args, captured_inputs, cancellation_manager)\u001b[0m\n\u001b[1;32m   1958\u001b[0m       \u001b[0;31m# No tape is watching; skip to running the function.\u001b[0m\u001b[0;34m\u001b[0m\u001b[0;34m\u001b[0m\u001b[0;34m\u001b[0m\u001b[0m\n\u001b[1;32m   1959\u001b[0m       return self._build_call_outputs(self._inference_function.call(\n\u001b[0;32m-> 1960\u001b[0;31m           ctx, args, cancellation_manager=cancellation_manager))\n\u001b[0m\u001b[1;32m   1961\u001b[0m     forward_backward = self._select_forward_and_backward_functions(\n\u001b[1;32m   1962\u001b[0m         \u001b[0margs\u001b[0m\u001b[0;34m,\u001b[0m\u001b[0;34m\u001b[0m\u001b[0;34m\u001b[0m\u001b[0m\n",
            "\u001b[0;32m/usr/local/lib/python3.7/dist-packages/tensorflow/python/eager/function.py\u001b[0m in \u001b[0;36mcall\u001b[0;34m(self, ctx, args, cancellation_manager)\u001b[0m\n\u001b[1;32m    601\u001b[0m               \u001b[0minputs\u001b[0m\u001b[0;34m=\u001b[0m\u001b[0margs\u001b[0m\u001b[0;34m,\u001b[0m\u001b[0;34m\u001b[0m\u001b[0;34m\u001b[0m\u001b[0m\n\u001b[1;32m    602\u001b[0m               \u001b[0mattrs\u001b[0m\u001b[0;34m=\u001b[0m\u001b[0mattrs\u001b[0m\u001b[0;34m,\u001b[0m\u001b[0;34m\u001b[0m\u001b[0;34m\u001b[0m\u001b[0m\n\u001b[0;32m--> 603\u001b[0;31m               ctx=ctx)\n\u001b[0m\u001b[1;32m    604\u001b[0m         \u001b[0;32melse\u001b[0m\u001b[0;34m:\u001b[0m\u001b[0;34m\u001b[0m\u001b[0;34m\u001b[0m\u001b[0m\n\u001b[1;32m    605\u001b[0m           outputs = execute.execute_with_cancellation(\n",
            "\u001b[0;32m/usr/local/lib/python3.7/dist-packages/tensorflow/python/eager/execute.py\u001b[0m in \u001b[0;36mquick_execute\u001b[0;34m(op_name, num_outputs, inputs, attrs, ctx, name)\u001b[0m\n\u001b[1;32m     57\u001b[0m     \u001b[0mctx\u001b[0m\u001b[0;34m.\u001b[0m\u001b[0mensure_initialized\u001b[0m\u001b[0;34m(\u001b[0m\u001b[0;34m)\u001b[0m\u001b[0;34m\u001b[0m\u001b[0;34m\u001b[0m\u001b[0m\n\u001b[1;32m     58\u001b[0m     tensors = pywrap_tfe.TFE_Py_Execute(ctx._handle, device_name, op_name,\n\u001b[0;32m---> 59\u001b[0;31m                                         inputs, attrs, num_outputs)\n\u001b[0m\u001b[1;32m     60\u001b[0m   \u001b[0;32mexcept\u001b[0m \u001b[0mcore\u001b[0m\u001b[0;34m.\u001b[0m\u001b[0m_NotOkStatusException\u001b[0m \u001b[0;32mas\u001b[0m \u001b[0me\u001b[0m\u001b[0;34m:\u001b[0m\u001b[0;34m\u001b[0m\u001b[0;34m\u001b[0m\u001b[0m\n\u001b[1;32m     61\u001b[0m     \u001b[0;32mif\u001b[0m \u001b[0mname\u001b[0m \u001b[0;32mis\u001b[0m \u001b[0;32mnot\u001b[0m \u001b[0;32mNone\u001b[0m\u001b[0;34m:\u001b[0m\u001b[0;34m\u001b[0m\u001b[0;34m\u001b[0m\u001b[0m\n",
            "\u001b[0;31mKeyboardInterrupt\u001b[0m: "
          ]
        }
      ]
    },
    {
      "cell_type": "code",
      "metadata": {
        "colab": {
          "base_uri": "https://localhost:8080/",
          "height": 283
        },
        "id": "gq4iqw2Fx3aq",
        "outputId": "af733fc7-955e-4be6-cdf7-fee8c4323df1"
      },
      "source": [
        "# loss\n",
        "plt.plot(r.history['loss'], label='train loss')\n",
        "plt.plot(r.history['val_loss'], label='val loss')\n",
        "plt.legend()\n",
        "plt.show()\n",
        "plt.savefig('LossVal_loss')\n"
      ],
      "execution_count": 35,
      "outputs": [
        {
          "output_type": "display_data",
          "data": {
            "image/png": "[encoded data removed]",
            "text/plain": [
              "<Figure size 432x288 with 1 Axes>"
            ]
          },
          "metadata": {
            "needs_background": "light"
          }
        },
        {
          "output_type": "display_data",
          "data": {
            "text/plain": [
              "<Figure size 432x288 with 0 Axes>"
            ]
          },
          "metadata": {}
        }
      ]
    },
    {
      "cell_type": "code",
      "metadata": {
        "colab": {
          "base_uri": "https://localhost:8080/",
          "height": 282
        },
        "id": "1z4bovvYAEQs",
        "outputId": "e0d72d0a-4b77-48cb-c689-14eeccb08b34"
      },
      "source": [
        "# accuracies\n",
        "plt.plot(r.history['accuracy'], label='train accuracy')\n",
        "plt.plot(r.history['val_accuracy'], label='val accuracy')\n",
        "plt.legend()\n",
        "plt.show()\n",
        "plt.savefig('AccVal_accuracy')\n"
      ],
      "execution_count": 36,
      "outputs": [
        {
          "output_type": "display_data",
          "data": {
            "image/png": "[encoded data removed]",
            "text/plain": [
              "<Figure size 432x288 with 1 Axes>"
            ]
          },
          "metadata": {
            "needs_background": "light"
          }
        },
        {
          "output_type": "display_data",
          "data": {
            "text/plain": [
              "<Figure size 432x288 with 0 Axes>"
            ]
          },
          "metadata": {}
        }
      ]
    },
    {
      "cell_type": "code",
      "metadata": {
        "id": "ud_F2uosAQpL"
      },
      "source": [
        ""
      ],
      "execution_count": null,
      "outputs": []
    }
  ]
}